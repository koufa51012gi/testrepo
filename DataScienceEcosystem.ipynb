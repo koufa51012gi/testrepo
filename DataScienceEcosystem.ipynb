{
 "cells": [
  {
   "cell_type": "markdown",
   "id": "0f7d683b",
   "metadata": {},
   "source": [
    "# Data Science Tools and Ecosystem"
   ]
  },
  {
   "cell_type": "markdown",
   "id": "53a59f53",
   "metadata": {},
   "source": [
    "In this notebook, Data Science Tools and Ecosystem are summarized"
   ]
  },
  {
   "cell_type": "markdown",
   "id": "5a83f7ef",
   "metadata": {},
   "source": [
    "__Objectives:__\n",
    "+ Popular languages for data science\n",
    "+ Popular libraries used by Data Scientists\n",
    "+ Development environment open source tools used in data science\n",
    "+ Evaluating arithmetic expressions in python\n",
    "+ Converting minutes to hours "
   ]
  },
  {
   "cell_type": "markdown",
   "id": "2b3d7340",
   "metadata": {},
   "source": [
    "Some of the popular languages that Data Scientists use are:\n",
    "1. Python\n",
    "2. R\n",
    "3. SQL\n",
    "4. Scala\n",
    "5. Java\n",
    "6. C++\n",
    "7. Julia"
   ]
  },
  {
   "cell_type": "markdown",
   "id": "6193fc07",
   "metadata": {},
   "source": [
    "Some of the commenly used libraries used by Data Scientists include:\n",
    "1. NumPy\n",
    "2. Pandas\n",
    "3. Matplotlib\n",
    "4. ggplot2\n",
    "5. Scikit-Learn\n",
    "6. Keras\n",
    "7. Tensor Flow\n",
    "8. Pytorch\n",
    "9. Apache spark\n",
    "10. Vegas\n",
    "11. Big DL\n",
    "12. Seaborn"
   ]
  },
  {
   "cell_type": "markdown",
   "id": "a5fc8f98",
   "metadata": {},
   "source": [
    "| Data Science Tools |\n",
    "| :------------------ |\n",
    "| Jupyter |\n",
    "| Apsche Zepplin |\n",
    "| RStudio |"
   ]
  },
  {
   "cell_type": "markdown",
   "id": "1a313653",
   "metadata": {},
   "source": [
    "### Below are a few examples of evaluating arithmetic expressions in Python."
   ]
  },
  {
   "cell_type": "code",
   "execution_count": 2,
   "id": "c0e93458",
   "metadata": {},
   "outputs": [
    {
     "data": {
      "text/plain": [
       "17"
      ]
     },
     "execution_count": 2,
     "metadata": {},
     "output_type": "execute_result"
    }
   ],
   "source": [
    "# This is a simple arithmetic expression to multipy then add integers.\n",
    "(3*4)+5"
   ]
  },
  {
   "cell_type": "code",
   "execution_count": 3,
   "id": "7cd5a185",
   "metadata": {},
   "outputs": [
    {
     "data": {
      "text/plain": [
       "3.3333333333333335"
      ]
     },
     "execution_count": 3,
     "metadata": {},
     "output_type": "execute_result"
    }
   ],
   "source": [
    "# This will convert 200 minutes to hours by dividing by 60\n",
    "200/60"
   ]
  },
  {
   "cell_type": "markdown",
   "id": "3e81635d",
   "metadata": {},
   "source": [
    "## Author\n",
    "Fazal-i-Haq"
   ]
  }
 ],
 "metadata": {
  "kernelspec": {
   "display_name": "Python 3 (ipykernel)",
   "language": "python",
   "name": "python3"
  },
  "language_info": {
   "codemirror_mode": {
    "name": "ipython",
    "version": 3
   },
   "file_extension": ".py",
   "mimetype": "text/x-python",
   "name": "python",
   "nbconvert_exporter": "python",
   "pygments_lexer": "ipython3",
   "version": "3.10.9"
  }
 },
 "nbformat": 4,
 "nbformat_minor": 5
}
